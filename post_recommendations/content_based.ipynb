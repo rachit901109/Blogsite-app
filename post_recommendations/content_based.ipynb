{
 "cells": [
  {
   "cell_type": "code",
   "execution_count": 101,
   "id": "7b83a027",
   "metadata": {},
   "outputs": [],
   "source": [
    "import numpy as np\n",
    "import pandas as pd\n",
    "import matplotlib.pyplot as plt"
   ]
  },
  {
   "cell_type": "code",
   "execution_count": 102,
   "id": "840f095d",
   "metadata": {},
   "outputs": [],
   "source": [
    "df=pd.read_csv('user_post_data.csv')\n",
    "df.rename(columns={'Unnamed: 0':'post_id'},inplace=True)\n",
    "df.set_index('post_id',inplace=True)\n",
    "df.fillna(0, inplace=True)"
   ]
  },
  {
   "cell_type": "code",
   "execution_count": 103,
   "id": "648cb104",
   "metadata": {},
   "outputs": [
    {
     "data": {
      "text/html": [
       "<div>\n",
       "<style scoped>\n",
       "    .dataframe tbody tr th:only-of-type {\n",
       "        vertical-align: middle;\n",
       "    }\n",
       "\n",
       "    .dataframe tbody tr th {\n",
       "        vertical-align: top;\n",
       "    }\n",
       "\n",
       "    .dataframe thead th {\n",
       "        text-align: right;\n",
       "    }\n",
       "</style>\n",
       "<table border=\"1\" class=\"dataframe\">\n",
       "  <thead>\n",
       "    <tr style=\"text-align: right;\">\n",
       "      <th></th>\n",
       "      <th>1</th>\n",
       "      <th>2</th>\n",
       "      <th>3</th>\n",
       "      <th>4</th>\n",
       "      <th>5</th>\n",
       "      <th>6</th>\n",
       "      <th>7</th>\n",
       "      <th>8</th>\n",
       "      <th>9</th>\n",
       "      <th>10</th>\n",
       "      <th>...</th>\n",
       "      <th>91</th>\n",
       "      <th>92</th>\n",
       "      <th>93</th>\n",
       "      <th>94</th>\n",
       "      <th>95</th>\n",
       "      <th>96</th>\n",
       "      <th>97</th>\n",
       "      <th>98</th>\n",
       "      <th>99</th>\n",
       "      <th>100</th>\n",
       "    </tr>\n",
       "    <tr>\n",
       "      <th>post_id</th>\n",
       "      <th></th>\n",
       "      <th></th>\n",
       "      <th></th>\n",
       "      <th></th>\n",
       "      <th></th>\n",
       "      <th></th>\n",
       "      <th></th>\n",
       "      <th></th>\n",
       "      <th></th>\n",
       "      <th></th>\n",
       "      <th></th>\n",
       "      <th></th>\n",
       "      <th></th>\n",
       "      <th></th>\n",
       "      <th></th>\n",
       "      <th></th>\n",
       "      <th></th>\n",
       "      <th></th>\n",
       "      <th></th>\n",
       "      <th></th>\n",
       "      <th></th>\n",
       "    </tr>\n",
       "  </thead>\n",
       "  <tbody>\n",
       "    <tr>\n",
       "      <th>1</th>\n",
       "      <td>2.0</td>\n",
       "      <td>3.0</td>\n",
       "      <td>4.0</td>\n",
       "      <td>2.0</td>\n",
       "      <td>3.0</td>\n",
       "      <td>0.0</td>\n",
       "      <td>0.0</td>\n",
       "      <td>0.0</td>\n",
       "      <td>0.0</td>\n",
       "      <td>4.0</td>\n",
       "      <td>...</td>\n",
       "      <td>5.0</td>\n",
       "      <td>0.0</td>\n",
       "      <td>0.0</td>\n",
       "      <td>2.0</td>\n",
       "      <td>0.0</td>\n",
       "      <td>1.0</td>\n",
       "      <td>0.0</td>\n",
       "      <td>0.0</td>\n",
       "      <td>3.0</td>\n",
       "      <td>3.0</td>\n",
       "    </tr>\n",
       "    <tr>\n",
       "      <th>2</th>\n",
       "      <td>0.0</td>\n",
       "      <td>0.0</td>\n",
       "      <td>0.0</td>\n",
       "      <td>0.0</td>\n",
       "      <td>1.0</td>\n",
       "      <td>2.0</td>\n",
       "      <td>5.0</td>\n",
       "      <td>0.0</td>\n",
       "      <td>0.0</td>\n",
       "      <td>4.0</td>\n",
       "      <td>...</td>\n",
       "      <td>0.0</td>\n",
       "      <td>0.0</td>\n",
       "      <td>4.0</td>\n",
       "      <td>0.0</td>\n",
       "      <td>0.0</td>\n",
       "      <td>0.0</td>\n",
       "      <td>0.0</td>\n",
       "      <td>0.0</td>\n",
       "      <td>0.0</td>\n",
       "      <td>0.0</td>\n",
       "    </tr>\n",
       "    <tr>\n",
       "      <th>3</th>\n",
       "      <td>4.0</td>\n",
       "      <td>3.0</td>\n",
       "      <td>2.0</td>\n",
       "      <td>3.0</td>\n",
       "      <td>0.0</td>\n",
       "      <td>0.0</td>\n",
       "      <td>0.0</td>\n",
       "      <td>0.0</td>\n",
       "      <td>2.0</td>\n",
       "      <td>0.0</td>\n",
       "      <td>...</td>\n",
       "      <td>0.0</td>\n",
       "      <td>0.0</td>\n",
       "      <td>0.0</td>\n",
       "      <td>3.0</td>\n",
       "      <td>0.0</td>\n",
       "      <td>2.0</td>\n",
       "      <td>1.0</td>\n",
       "      <td>4.0</td>\n",
       "      <td>0.0</td>\n",
       "      <td>0.0</td>\n",
       "    </tr>\n",
       "    <tr>\n",
       "      <th>4</th>\n",
       "      <td>4.0</td>\n",
       "      <td>1.0</td>\n",
       "      <td>4.0</td>\n",
       "      <td>1.0</td>\n",
       "      <td>0.0</td>\n",
       "      <td>0.0</td>\n",
       "      <td>0.0</td>\n",
       "      <td>0.0</td>\n",
       "      <td>0.0</td>\n",
       "      <td>2.0</td>\n",
       "      <td>...</td>\n",
       "      <td>0.0</td>\n",
       "      <td>1.0</td>\n",
       "      <td>0.0</td>\n",
       "      <td>5.0</td>\n",
       "      <td>0.0</td>\n",
       "      <td>4.0</td>\n",
       "      <td>1.0</td>\n",
       "      <td>0.0</td>\n",
       "      <td>0.0</td>\n",
       "      <td>0.0</td>\n",
       "    </tr>\n",
       "    <tr>\n",
       "      <th>5</th>\n",
       "      <td>0.0</td>\n",
       "      <td>4.0</td>\n",
       "      <td>0.0</td>\n",
       "      <td>0.0</td>\n",
       "      <td>0.0</td>\n",
       "      <td>0.0</td>\n",
       "      <td>0.0</td>\n",
       "      <td>2.0</td>\n",
       "      <td>3.0</td>\n",
       "      <td>3.0</td>\n",
       "      <td>...</td>\n",
       "      <td>1.0</td>\n",
       "      <td>1.0</td>\n",
       "      <td>3.0</td>\n",
       "      <td>4.0</td>\n",
       "      <td>4.0</td>\n",
       "      <td>1.0</td>\n",
       "      <td>0.0</td>\n",
       "      <td>4.0</td>\n",
       "      <td>2.0</td>\n",
       "      <td>0.0</td>\n",
       "    </tr>\n",
       "  </tbody>\n",
       "</table>\n",
       "<p>5 rows × 100 columns</p>\n",
       "</div>"
      ],
      "text/plain": [
       "           1    2    3    4    5    6    7    8    9   10  ...   91   92   93  \\\n",
       "post_id                                                    ...                  \n",
       "1        2.0  3.0  4.0  2.0  3.0  0.0  0.0  0.0  0.0  4.0  ...  5.0  0.0  0.0   \n",
       "2        0.0  0.0  0.0  0.0  1.0  2.0  5.0  0.0  0.0  4.0  ...  0.0  0.0  4.0   \n",
       "3        4.0  3.0  2.0  3.0  0.0  0.0  0.0  0.0  2.0  0.0  ...  0.0  0.0  0.0   \n",
       "4        4.0  1.0  4.0  1.0  0.0  0.0  0.0  0.0  0.0  2.0  ...  0.0  1.0  0.0   \n",
       "5        0.0  4.0  0.0  0.0  0.0  0.0  0.0  2.0  3.0  3.0  ...  1.0  1.0  3.0   \n",
       "\n",
       "          94   95   96   97   98   99  100  \n",
       "post_id                                     \n",
       "1        2.0  0.0  1.0  0.0  0.0  3.0  3.0  \n",
       "2        0.0  0.0  0.0  0.0  0.0  0.0  0.0  \n",
       "3        3.0  0.0  2.0  1.0  4.0  0.0  0.0  \n",
       "4        5.0  0.0  4.0  1.0  0.0  0.0  0.0  \n",
       "5        4.0  4.0  1.0  0.0  4.0  2.0  0.0  \n",
       "\n",
       "[5 rows x 100 columns]"
      ]
     },
     "execution_count": 103,
     "metadata": {},
     "output_type": "execute_result"
    }
   ],
   "source": [
    "df.head()"
   ]
  },
  {
   "cell_type": "code",
   "execution_count": 104,
   "id": "6990fab6",
   "metadata": {},
   "outputs": [
    {
     "name": "stdout",
     "output_type": "stream",
     "text": [
      "No. of users 100\n",
      "No. of posts 400\n"
     ]
    }
   ],
   "source": [
    "print(f\"No. of users {df.shape[1]}\\nNo. of posts {df.shape[0]}\")"
   ]
  },
  {
   "cell_type": "code",
   "execution_count": 105,
   "id": "37b6a3a1",
   "metadata": {},
   "outputs": [],
   "source": [
    "df_np = df.to_numpy()"
   ]
  },
  {
   "cell_type": "code",
   "execution_count": 106,
   "id": "f5eb4ae5",
   "metadata": {},
   "outputs": [
    {
     "data": {
      "text/plain": [
       "(400, 100)"
      ]
     },
     "execution_count": 106,
     "metadata": {},
     "output_type": "execute_result"
    }
   ],
   "source": [
    "df_np.shape"
   ]
  },
  {
   "cell_type": "code",
   "execution_count": 107,
   "id": "6e5332de",
   "metadata": {},
   "outputs": [],
   "source": [
    "row_avg = np.mean(df_np,axis=1)"
   ]
  },
  {
   "cell_type": "code",
   "execution_count": 108,
   "id": "646949b5",
   "metadata": {},
   "outputs": [
    {
     "name": "stdout",
     "output_type": "stream",
     "text": [
      "avg rating for posts:\n"
     ]
    },
    {
     "data": {
      "text/plain": [
       "array([1.75, 1.2 , 1.53, 1.33, 1.36, 1.54, 1.49, 1.82, 1.63, 1.8 ])"
      ]
     },
     "execution_count": 108,
     "metadata": {},
     "output_type": "execute_result"
    }
   ],
   "source": [
    "print(f\"avg rating for posts:\")\n",
    "row_avg[:10]"
   ]
  },
  {
   "cell_type": "code",
   "execution_count": 109,
   "id": "42e382be",
   "metadata": {},
   "outputs": [
    {
     "data": {
      "text/plain": [
       "(400,)"
      ]
     },
     "execution_count": 109,
     "metadata": {},
     "output_type": "execute_result"
    }
   ],
   "source": [
    "row_avg.shape"
   ]
  },
  {
   "cell_type": "code",
   "execution_count": 110,
   "id": "1a7a2d23",
   "metadata": {},
   "outputs": [],
   "source": [
    "mean_center_df = df_np-row_avg.reshape(-1,1)"
   ]
  },
  {
   "cell_type": "code",
   "execution_count": 111,
   "id": "cc83ee32",
   "metadata": {},
   "outputs": [
    {
     "data": {
      "text/plain": [
       "(400, 100)"
      ]
     },
     "execution_count": 111,
     "metadata": {},
     "output_type": "execute_result"
    }
   ],
   "source": [
    "mean_center_df.shape"
   ]
  },
  {
   "cell_type": "code",
   "execution_count": 112,
   "id": "24498805",
   "metadata": {},
   "outputs": [],
   "source": [
    "from sklearn.metrics.pairwise import cosine_similarity\n",
    "\n",
    "cosine_sim_mat = cosine_similarity(mean_center_df)"
   ]
  },
  {
   "cell_type": "code",
   "execution_count": 113,
   "id": "4c6e360d",
   "metadata": {},
   "outputs": [],
   "source": [
    "cosine_sim_data = pd.DataFrame(cosine_sim_mat)"
   ]
  },
  {
   "cell_type": "code",
   "execution_count": 114,
   "id": "62753fd3",
   "metadata": {},
   "outputs": [
    {
     "data": {
      "text/html": [
       "<div>\n",
       "<style scoped>\n",
       "    .dataframe tbody tr th:only-of-type {\n",
       "        vertical-align: middle;\n",
       "    }\n",
       "\n",
       "    .dataframe tbody tr th {\n",
       "        vertical-align: top;\n",
       "    }\n",
       "\n",
       "    .dataframe thead th {\n",
       "        text-align: right;\n",
       "    }\n",
       "</style>\n",
       "<table border=\"1\" class=\"dataframe\">\n",
       "  <thead>\n",
       "    <tr style=\"text-align: right;\">\n",
       "      <th></th>\n",
       "      <th>0</th>\n",
       "      <th>1</th>\n",
       "      <th>2</th>\n",
       "      <th>3</th>\n",
       "      <th>4</th>\n",
       "      <th>5</th>\n",
       "      <th>6</th>\n",
       "      <th>7</th>\n",
       "      <th>8</th>\n",
       "      <th>9</th>\n",
       "      <th>...</th>\n",
       "      <th>390</th>\n",
       "      <th>391</th>\n",
       "      <th>392</th>\n",
       "      <th>393</th>\n",
       "      <th>394</th>\n",
       "      <th>395</th>\n",
       "      <th>396</th>\n",
       "      <th>397</th>\n",
       "      <th>398</th>\n",
       "      <th>399</th>\n",
       "    </tr>\n",
       "  </thead>\n",
       "  <tbody>\n",
       "    <tr>\n",
       "      <th>0</th>\n",
       "      <td>1.000000</td>\n",
       "      <td>0.037349</td>\n",
       "      <td>-0.039793</td>\n",
       "      <td>-0.056714</td>\n",
       "      <td>-0.244614</td>\n",
       "      <td>-0.108397</td>\n",
       "      <td>-0.046870</td>\n",
       "      <td>0.182789</td>\n",
       "      <td>-0.048230</td>\n",
       "      <td>0.120499</td>\n",
       "      <td>...</td>\n",
       "      <td>0.080690</td>\n",
       "      <td>0.032400</td>\n",
       "      <td>-0.171328</td>\n",
       "      <td>-0.092995</td>\n",
       "      <td>0.084384</td>\n",
       "      <td>-0.012099</td>\n",
       "      <td>-0.026336</td>\n",
       "      <td>0.110979</td>\n",
       "      <td>0.006242</td>\n",
       "      <td>0.075277</td>\n",
       "    </tr>\n",
       "    <tr>\n",
       "      <th>1</th>\n",
       "      <td>0.037349</td>\n",
       "      <td>1.000000</td>\n",
       "      <td>-0.090269</td>\n",
       "      <td>0.022700</td>\n",
       "      <td>-0.096320</td>\n",
       "      <td>0.040278</td>\n",
       "      <td>-0.028874</td>\n",
       "      <td>0.023781</td>\n",
       "      <td>0.032715</td>\n",
       "      <td>0.026288</td>\n",
       "      <td>...</td>\n",
       "      <td>0.082768</td>\n",
       "      <td>0.030394</td>\n",
       "      <td>0.117633</td>\n",
       "      <td>-0.027096</td>\n",
       "      <td>-0.098243</td>\n",
       "      <td>-0.131157</td>\n",
       "      <td>0.027873</td>\n",
       "      <td>0.178469</td>\n",
       "      <td>0.017566</td>\n",
       "      <td>-0.077101</td>\n",
       "    </tr>\n",
       "    <tr>\n",
       "      <th>2</th>\n",
       "      <td>-0.039793</td>\n",
       "      <td>-0.090269</td>\n",
       "      <td>1.000000</td>\n",
       "      <td>0.242436</td>\n",
       "      <td>0.141324</td>\n",
       "      <td>0.145448</td>\n",
       "      <td>-0.295853</td>\n",
       "      <td>-0.012976</td>\n",
       "      <td>0.134655</td>\n",
       "      <td>-0.001222</td>\n",
       "      <td>...</td>\n",
       "      <td>0.019109</td>\n",
       "      <td>0.139491</td>\n",
       "      <td>0.163783</td>\n",
       "      <td>0.079027</td>\n",
       "      <td>0.023922</td>\n",
       "      <td>0.177831</td>\n",
       "      <td>-0.056930</td>\n",
       "      <td>0.146472</td>\n",
       "      <td>0.069295</td>\n",
       "      <td>0.017889</td>\n",
       "    </tr>\n",
       "    <tr>\n",
       "      <th>3</th>\n",
       "      <td>-0.056714</td>\n",
       "      <td>0.022700</td>\n",
       "      <td>0.242436</td>\n",
       "      <td>1.000000</td>\n",
       "      <td>0.048593</td>\n",
       "      <td>0.042288</td>\n",
       "      <td>0.002647</td>\n",
       "      <td>-0.024510</td>\n",
       "      <td>0.068356</td>\n",
       "      <td>0.081752</td>\n",
       "      <td>...</td>\n",
       "      <td>-0.077653</td>\n",
       "      <td>0.098671</td>\n",
       "      <td>0.103387</td>\n",
       "      <td>-0.000257</td>\n",
       "      <td>-0.061544</td>\n",
       "      <td>-0.011459</td>\n",
       "      <td>-0.068120</td>\n",
       "      <td>0.030834</td>\n",
       "      <td>0.102774</td>\n",
       "      <td>-0.025420</td>\n",
       "    </tr>\n",
       "    <tr>\n",
       "      <th>4</th>\n",
       "      <td>-0.244614</td>\n",
       "      <td>-0.096320</td>\n",
       "      <td>0.141324</td>\n",
       "      <td>0.048593</td>\n",
       "      <td>1.000000</td>\n",
       "      <td>0.046641</td>\n",
       "      <td>-0.052977</td>\n",
       "      <td>0.065214</td>\n",
       "      <td>-0.211663</td>\n",
       "      <td>-0.206605</td>\n",
       "      <td>...</td>\n",
       "      <td>-0.004393</td>\n",
       "      <td>0.015869</td>\n",
       "      <td>0.010352</td>\n",
       "      <td>0.040527</td>\n",
       "      <td>-0.197641</td>\n",
       "      <td>-0.067545</td>\n",
       "      <td>0.033929</td>\n",
       "      <td>0.045336</td>\n",
       "      <td>-0.145440</td>\n",
       "      <td>0.070196</td>\n",
       "    </tr>\n",
       "  </tbody>\n",
       "</table>\n",
       "<p>5 rows × 400 columns</p>\n",
       "</div>"
      ],
      "text/plain": [
       "        0         1         2         3         4         5         6    \\\n",
       "0  1.000000  0.037349 -0.039793 -0.056714 -0.244614 -0.108397 -0.046870   \n",
       "1  0.037349  1.000000 -0.090269  0.022700 -0.096320  0.040278 -0.028874   \n",
       "2 -0.039793 -0.090269  1.000000  0.242436  0.141324  0.145448 -0.295853   \n",
       "3 -0.056714  0.022700  0.242436  1.000000  0.048593  0.042288  0.002647   \n",
       "4 -0.244614 -0.096320  0.141324  0.048593  1.000000  0.046641 -0.052977   \n",
       "\n",
       "        7         8         9    ...       390       391       392       393  \\\n",
       "0  0.182789 -0.048230  0.120499  ...  0.080690  0.032400 -0.171328 -0.092995   \n",
       "1  0.023781  0.032715  0.026288  ...  0.082768  0.030394  0.117633 -0.027096   \n",
       "2 -0.012976  0.134655 -0.001222  ...  0.019109  0.139491  0.163783  0.079027   \n",
       "3 -0.024510  0.068356  0.081752  ... -0.077653  0.098671  0.103387 -0.000257   \n",
       "4  0.065214 -0.211663 -0.206605  ... -0.004393  0.015869  0.010352  0.040527   \n",
       "\n",
       "        394       395       396       397       398       399  \n",
       "0  0.084384 -0.012099 -0.026336  0.110979  0.006242  0.075277  \n",
       "1 -0.098243 -0.131157  0.027873  0.178469  0.017566 -0.077101  \n",
       "2  0.023922  0.177831 -0.056930  0.146472  0.069295  0.017889  \n",
       "3 -0.061544 -0.011459 -0.068120  0.030834  0.102774 -0.025420  \n",
       "4 -0.197641 -0.067545  0.033929  0.045336 -0.145440  0.070196  \n",
       "\n",
       "[5 rows x 400 columns]"
      ]
     },
     "execution_count": 114,
     "metadata": {},
     "output_type": "execute_result"
    }
   ],
   "source": [
    "cosine_sim_data.head()"
   ]
  },
  {
   "cell_type": "code",
   "execution_count": 115,
   "id": "3fa0a091",
   "metadata": {},
   "outputs": [
    {
     "data": {
      "text/plain": [
       "[332, 236, 304, 294, 112]"
      ]
     },
     "execution_count": 115,
     "metadata": {},
     "output_type": "execute_result"
    }
   ],
   "source": [
    "cosine_sim_data.loc[0].sort_values(ascending=False).index.tolist()[1:6]"
   ]
  },
  {
   "cell_type": "code",
   "execution_count": 158,
   "id": "63f9c51c",
   "metadata": {
    "scrolled": true
   },
   "outputs": [],
   "source": [
    "def get_similar_post(indexes):\n",
    "    rec_posts = []\n",
    "    for i in indexes:\n",
    "        post_index = cosine_sim_data.loc[i].sort_values(ascending=False).index.tolist()[1]  \n",
    "        rec_posts.append(post_index)\n",
    "        \n",
    "    return rec_posts"
   ]
  },
  {
   "cell_type": "code",
   "execution_count": 159,
   "id": "c9d8e793",
   "metadata": {},
   "outputs": [],
   "source": [
    "def recommend(user_id):\n",
    "    user_rating = pd.Series(df_np[:,user_id])\n",
    "    top_rated_post = user_rating.sort_values(ascending=False).index.tolist()[0:5]\n",
    "    rec_post = get_similar_post(top_rated_post)\n",
    "    print(rec_post)"
   ]
  },
  {
   "cell_type": "code",
   "execution_count": 161,
   "id": "ce839876",
   "metadata": {},
   "outputs": [
    {
     "name": "stdout",
     "output_type": "stream",
     "text": [
      "[346, 205, 313, 173, 293]\n"
     ]
    }
   ],
   "source": [
    "recommend(4)"
   ]
  },
  {
   "cell_type": "code",
   "execution_count": null,
   "id": "f764f961",
   "metadata": {},
   "outputs": [],
   "source": []
  },
  {
   "cell_type": "code",
   "execution_count": null,
   "id": "9ca29737",
   "metadata": {},
   "outputs": [],
   "source": []
  }
 ],
 "metadata": {
  "kernelspec": {
   "display_name": "Python 3 (ipykernel)",
   "language": "python",
   "name": "python3"
  },
  "language_info": {
   "codemirror_mode": {
    "name": "ipython",
    "version": 3
   },
   "file_extension": ".py",
   "mimetype": "text/x-python",
   "name": "python",
   "nbconvert_exporter": "python",
   "pygments_lexer": "ipython3",
   "version": "3.10.8"
  }
 },
 "nbformat": 4,
 "nbformat_minor": 5
}
